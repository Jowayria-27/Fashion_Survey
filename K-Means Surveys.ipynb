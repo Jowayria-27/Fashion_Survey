{
  "nbformat": 4,
  "nbformat_minor": 0,
  "metadata": {
    "colab": {
      "provenance": [],
      "authorship_tag": "ABX9TyMtPrY/pRWVzlRHIs1bcdkN",
      "include_colab_link": true
    },
    "kernelspec": {
      "name": "python3",
      "display_name": "Python 3"
    },
    "language_info": {
      "name": "python"
    }
  },
  "cells": [
    {
      "cell_type": "markdown",
      "metadata": {
        "id": "view-in-github",
        "colab_type": "text"
      },
      "source": [
        "<a href=\"https://colab.research.google.com/github/Jowayria-27/Fashion_Survey/blob/main/K-Means%20Surveys.ipynb\" target=\"_parent\"><img src=\"https://colab.research.google.com/assets/colab-badge.svg\" alt=\"Open In Colab\"/></a>"
      ]
    },
    {
      "cell_type": "markdown",
      "source": [
        "Graduatipn Project\n",
        "\n",
        "Comparing the user engagement of traditional survey respondders with gamified survey\n",
        "\n"
      ],
      "metadata": {
        "id": "i2r9ndoF3AbY"
      }
    },
    {
      "cell_type": "code",
      "execution_count": 1,
      "metadata": {
        "id": "HIhdrbmO23uS"
      },
      "outputs": [],
      "source": [
        "import pandas as pd\n",
        "import numpy as np\n",
        "import matplotlib.pyplot as plt\n",
        "import seaborn as sns\n",
        "from google.colab import files\n",
        "import statistics as s"
      ]
    },
    {
      "cell_type": "code",
      "source": [
        "df = pd.read_csv('/content/Customer-Churn-Records.csv')\n",
        "df.head(10)"
      ],
      "metadata": {
        "id": "0shVR7483XvW"
      },
      "execution_count": 1,
      "outputs": []
    }
  ]
}